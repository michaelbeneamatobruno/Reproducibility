{
 "cells": [
  {
   "cell_type": "code",
   "execution_count": null,
   "metadata": {},
   "outputs": [],
   "source": [
    "library(tidyverse)\n",
    "library(ggplot2)\n",
    "\n",
    "huntingActivities = c(1:10, 1:10, 1:10, 1:10)\n",
    "perCapitaBeluga = c(-9399, 266504, 358454, 404429, 432014, 450404, 463540, 473392, 481054, 487184)\n",
    "perCapitaBeluga = perCapitaBeluga / 1000\n",
    "belugaOpp = c(-454859, -179009, -87059, -41084, -13499, 4890, 18025, 27877, 35540, 41670)\n",
    "belugaOpp = belugaOpp / 1000\n",
    "beluga = c(perCapitaBeluga, belugaOpp)\n",
    "perCapitaNarwhal = c(133278, 321500, 384240, 415611, 434433, 446981, 455944, 462666, 467895, 472077)\n",
    "perCapitaNarwhal = perCapitaNarwhal / 1000\n",
    "NarwhalOpp = c(-26735, 161486, 224227, 255597, 274419, 286967, 295930, 302653, 307881, 312064)\n",
    "NarwhalOpp = NarwhalOpp / 1000\n",
    "narwhal = c(perCapitaNarwhal, NarwhalOpp)\n",
    "whales = c(beluga, narwhal)\n",
    "class = c(rep(\"Non-Opportunity Beluga\", 10), rep(\"Opportunity-Cost Beluga\", 10), rep(\"Non-Opportunity Narwhal\", 10), rep(\"Opportunity-Cost Narwhal\", 10))\n",
    "data = tibble(class, huntingActivities, whales)\n",
    "\n",
    "\n",
    "\n",
    "beluga = ggplot(data = data, aes(x = huntingActivities, y = whales, shape = class)) + ggtitle(\"Economic Value per Hunt\") + xlab(\"Number of Hunting Activites\") + ylab(\"Average Use Value Per Capita($CAN\")\n",
    "beluga + geom_point() + scale_x_continuous(breaks = pretty(data$huntingActivities, n = 5)) + scale_y_continuous(breaks = pretty(data$whales, n = 10))"
   ]
  }
 ],
 "metadata": {
  "kernelspec": {
   "display_name": "Python 3",
   "language": "python",
   "name": "python3"
  },
  "language_info": {
   "codemirror_mode": {
    "name": "ipython",
    "version": 3
   },
   "file_extension": ".py",
   "mimetype": "text/x-python",
   "name": "python",
   "nbconvert_exporter": "python",
   "pygments_lexer": "ipython3",
   "version": "3.5.2"
  }
 },
 "nbformat": 4,
 "nbformat_minor": 2
}
